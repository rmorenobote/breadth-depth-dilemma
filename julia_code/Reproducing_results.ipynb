{
 "cells": [
  {
   "cell_type": "markdown",
   "metadata": {},
   "source": [
    "# Breadth-depth dilemma"
   ]
  },
  {
   "cell_type": "markdown",
   "metadata": {},
   "source": [
    "Notebook that goes through the reproduction of figures for the paper \"The breadth-depth dilemma in a finite capacity model of decision-making\". All the functions used are in \"Functions_discrete.jl\" Julia module."
   ]
  },
  {
   "cell_type": "code",
   "execution_count": 1,
   "metadata": {
    "collapsed": true
   },
   "outputs": [],
   "source": [
    "using PyPlot, CurveFit, Distributions, SpecialFunctions"
   ]
  },
  {
   "cell_type": "code",
   "execution_count": 2,
   "metadata": {
    "collapsed": true
   },
   "outputs": [],
   "source": [
    "push!(LOAD_PATH, \"./\");"
   ]
  },
  {
   "cell_type": "code",
   "execution_count": 3,
   "metadata": {
    "collapsed": false
   },
   "outputs": [],
   "source": [
    "using Functions_BD"
   ]
  },
  {
   "cell_type": "markdown",
   "metadata": {},
   "source": [
    "## Figure 2\n",
    "### Panel (a)"
   ]
  },
  {
   "cell_type": "code",
   "execution_count": 4,
   "metadata": {
    "collapsed": false
   },
   "outputs": [
    {
     "data": {
      "image/png": "[encoded data removed]",
      "text/plain": [
       "Figure(PyObject <Figure size 226.772x198.425 with 1 Axes>)"
      ]
     },
     "metadata": {},
     "output_type": "display_data"
    }
   ],
   "source": [
    "widthCM = 8\n",
    "heightCM = 7\n",
    "f = figure(figsize=(widthCM/2.54, heightCM/2.54), dpi=72)\n",
    "ax = gca()\n",
    "rc(\"text\", usetex=true)\n",
    "rc(\"font\",family=\"serif\", serif = \"Computer Modern\")\n",
    "C = [4,10,100]\n",
    "ax.spines[\"right\"].set_visible(false)\n",
    "ax.spines[\"top\"].set_visible(false)\n",
    "N_sim = 1E5\n",
    "α = 1\n",
    "β = 1\n",
    "alice = false\n",
    "colors = get_cmap(\"gray_r\")\n",
    "cindex = [0.1,0.5,0.9]\n",
    "for j in 1:length(C)\n",
    "    M = divisors(C[j])\n",
    "    U_sim = zeros(length(M))\n",
    "    U = zeros(length(M))\n",
    "    var = zeros(length(M))\n",
    "    for i in 1:length(M)\n",
    "        L = ones(Int64,M[i]).*Int64(C[j]/M[i])\n",
    "        U[i] = uni_utility_Bb(C[j],M[i],α,β,alice)\n",
    "        U_sim[i] = utility_sim_Bb(L,α,β,N_sim,alice)[1]\n",
    "    end\n",
    "    ax.plot(M,U,\"-\", color = colors(cindex[j]), label=string(\"C = \",C[j]))\n",
    "    ax.plot(M,U_sim,\"ko\",markersize = 3)\n",
    "end\n",
    "tight_layout(rect = [0.06, 0.04, 1, 1])\n",
    "legend(loc=4,fontsize=10, ncol = 1, frameon =false);\n",
    "xscale(\"log\")\n",
    "ylabel(\"Expected utility\",fontsize = 12)\n",
    "xlabel(\"M, sampled alternatives\",fontsize = 12);\n",
    "#savefig(\"./fig2a.pdf\")"
   ]
  },
  {
   "cell_type": "code",
   "execution_count": 5,
   "metadata": {
    "collapsed": false
   },
   "outputs": [],
   "source": [
    "C = [2,3,5,7,10,30,100,300,1000,3000,10000]\n",
    "max_U = zeros(length(C))\n",
    "M_opt_flat = zeros(length(C))\n",
    "max_U_rich = zeros(length(C))\n",
    "M_opt_rich = zeros(length(C))\n",
    "M_opt_poor = zeros(length(C))\n",
    "max_U_poor = zeros(length(C))\n",
    "α_poor = 1\n",
    "β_poor = 3\n",
    "α_rich = 3\n",
    "β_rich = 1\n",
    "α_flat = 1\n",
    "β_flat = 1\n",
    "alice = false\n",
    "N_sim = 1E5\n",
    "C_sim = 100\n",
    "M_opt_rich_sim = zeros(length(C))\n",
    "M_opt_flat_sim = zeros(length(C))\n",
    "M_opt_poor_sim = zeros(length(C))\n",
    "for j in 1:length(C)\n",
    "    M = divisors(C[j])\n",
    "    U_rich_sim = zeros(length(M))\n",
    "    U_poor_sim = zeros(length(M))\n",
    "    U_flat_sim = zeros(length(M))\n",
    "    U_flat_sim = zeros(length(M))\n",
    "    U_rich_ana = zeros(length(M))\n",
    "    U_poor_ana = zeros(length(M))\n",
    "    U_flat_ana = zeros(length(M))\n",
    "    var_rich = zeros(length(C),length(M))\n",
    "    var_poor = zeros(length(C),length(M))\n",
    "    var_flat = zeros(length(C),length(M))\n",
    "    for i in 1:length(M)        \n",
    "        L = ones(Int64,M[i]).*Int64(C[j]/M[i])\n",
    "        #Only simulate for low capacities, otherwise it takes too long\n",
    "        if C[j] <= C_sim\n",
    "            U_rich_sim[i],var_rich[j,i] = utility_sim_Bb(L,α_rich,β_rich,N_sim,alice)\n",
    "            U_poor_sim[i],var_poor[j,i] = utility_sim_Bb(L,α_poor,β_poor,N_sim,alice)\n",
    "            U_flat_sim[i],var_flat[j,i] = utility_sim_Bb(L,α_flat,β_flat,N_sim,alice)\n",
    "        end\n",
    "        U_flat_ana[i] = uni_utility_Bb(C[j],M[i],α_flat,β_flat,alice)\n",
    "        U_rich_ana[i] = uni_utility_Bb(C[j],M[i],α_rich,β_rich,alice)\n",
    "        U_poor_ana[i] = uni_utility_Bb(C[j],M[i],α_poor,β_poor,alice)\n",
    "    end\n",
    "    M_opt_flat[j] = M[findmax(U_flat_ana)[2]]\n",
    "    M_opt_rich[j] = M[findmax(U_rich_ana)[2]]\n",
    "    M_opt_poor[j] = M[findmax(U_poor_ana)[2]]\n",
    "    if C[j] <= C_sim\n",
    "        M_opt_rich_sim[j] = M[findmax(U_rich_sim)[2]]\n",
    "        M_opt_flat_sim[j] = M[findmax(U_flat_sim)[2]]\n",
    "        M_opt_poor_sim[j] = M[findmax(U_poor_sim)[2]]\n",
    "    end\n",
    "end"
   ]
  },
  {
   "cell_type": "markdown",
   "metadata": {},
   "source": [
    "### Panel (b)"
   ]
  },
  {
   "cell_type": "code",
   "execution_count": 6,
   "metadata": {
    "collapsed": false
   },
   "outputs": [
    {
     "data": {
      "image/png": "[encoded data removed]",
      "text/plain": [
       "Figure(PyObject <Figure size 226.772x198.425 with 1 Axes>)"
      ]
     },
     "metadata": {},
     "output_type": "display_data"
    }
   ],
   "source": [
    "widthCM = 8\n",
    "heightCM = 7\n",
    "f = figure(figsize=(widthCM/2.54, heightCM/2.54), dpi=72)\n",
    "ax = gca()\n",
    "rc(\"text\", usetex=true)\n",
    "rc(\"font\",family=\"serif\", serif = \"Computer Modern\")\n",
    "\n",
    "ax.spines[\"right\"].set_visible(false)\n",
    "ax.spines[\"top\"].set_visible(false)\n",
    "\n",
    "loglog(C,M_opt_flat_sim,\"bo\",label=string(L\"$\\alpha = 1$\", \"\\n\", L\"$\\beta = 1$\"),markersize=4)\n",
    "loglog(C,M_opt_flat,\"b.-\",linewidth = 1)\n",
    "loglog(C,M_opt_rich_sim,\"go\",label=string(L\"$\\alpha = 5$\", \"\\n\", L\"$\\beta = 1$\"),markersize=4)\n",
    "loglog(C,M_opt_rich,\"r.-\",linewidth = 1)\n",
    "loglog(C,M_opt_poor_sim,\"ro\",label=string(L\"$\\alpha = 1$\", \"\\n\", L\"$\\beta = 5$\"),markersize=4)\n",
    "loglog(C,M_opt_poor,\"g.-\",linewidth = 1)\n",
    "fend = 4\n",
    "start = fend + 2\n",
    "#Show y = x only once\n",
    "b1p,m1p=linear_fit(log.(C[1:fend]),log.(M_opt_rich[1:fend]))\n",
    "\n",
    "b2p,m2p=linear_fit(log.(C[start:end]),log.(M_opt_rich[start:end]))\n",
    "b2r,m2r=linear_fit(log.(C[start:end]),log.(M_opt_poor[start:end]))\n",
    "b2f,m2f=linear_fit(log.(C[start:end]),log.(M_opt_flat[start:end]))\n",
    "\n",
    "M_fitted1p = exp.(log.(C[1:end]).*m1p .+ b1p)\n",
    "M_fitted2r = exp.(log.(C[start:end]).*m2r .+ b2r)\n",
    "M_fitted2p = exp.(log.(C[start:end]).*m2p .+ b2p)\n",
    "M_fitted2f = exp.(log.(C[start:end]).*m2f .+ b2f)\n",
    "\n",
    "loglog(C[1:end],M_fitted1p,\"k--\")\n",
    "\n",
    "loglog(C[start:end],M_fitted2f,\"y--\")#,label=string(\"m = \",round(m2r,digits=2)))\n",
    "loglog(C[start:end],M_fitted2r,\"y--\")#,label=string(\"m = \",round(m2r,digits=2)))\n",
    "loglog(C[start:end],M_fitted2p,\"y--\")\n",
    "\n",
    "tight_layout(rect = [0.06, 0.04, 1, 1])\n",
    "\n",
    "#tick_params(labelsize=12,direction = \"out\",top=false)\n",
    "\n",
    "xlabel(\"Capacity C\",fontsize=14)\n",
    "ylabel(\"Optimal M\",fontsize=14)\n",
    "\n",
    "legend(loc=2,fontsize=8, ncol = 1, frameon =false);\n",
    "#savefig(\"./fig2a.pdf\")\n"
   ]
  },
  {
   "cell_type": "markdown",
   "metadata": {},
   "source": [
    "### Panel (c)-(d)"
   ]
  },
  {
   "cell_type": "code",
   "execution_count": 7,
   "metadata": {
    "collapsed": false
   },
   "outputs": [
    {
     "data": {
      "image/png": "[encoded data removed]",
      "text/plain": [
       "Figure(PyObject <Figure size 226.772x198.425 with 1 Axes>)"
      ]
     },
     "metadata": {},
     "output_type": "display_data"
    }
   ],
   "source": [
    "widthCM = 8\n",
    "heightCM = 7\n",
    "f = figure(figsize=(widthCM/2.54, heightCM/2.54), dpi=72)\n",
    "ax = gca()\n",
    "rc(\"text\", usetex=true)\n",
    "rc(\"font\",family=\"serif\", serif = \"Computer Modern\")\n",
    "\n",
    "ax.spines[\"right\"].set_visible(false)\n",
    "ax.spines[\"top\"].set_visible(false)\n",
    "semilogx(C,M_opt_poor./C,\"-o\",label=\"Poor\")\n",
    "semilogx(C,M_opt_flat./C,\"-o\",label=\"Neutral\")\n",
    "semilogx(C,M_opt_rich./C,\"-o\",label=\"Rich\")\n",
    "tight_layout(rect = [0.06, 0.04, 1, 1])\n",
    "yticks([0,0.5,1])\n",
    "#grid(\"on\")\n",
    "legend()\n",
    "#xlim([0,64])\n",
    "ylabel(\"M/capacity\",fontsize = 14)\n",
    "xlabel(\"capacity\",fontsize = 14)\n",
    "#savefig(\"./fig2c.pdf\");"
   ]
  },
  {
   "cell_type": "markdown",
   "metadata": {},
   "source": [
    "## Figure 3"
   ]
  },
  {
   "cell_type": "code",
   "execution_count": 8,
   "metadata": {
    "collapsed": false
   },
   "outputs": [],
   "source": [
    "C = collect(2:50)\n",
    "max_U = zeros(length(C))\n",
    "M_opt = zeros(length(C))\n",
    "α = [1.5,2.0,3.0,4.0,5.0,6.0,7.0,8.0,9.0,10,11,12,13,14,15,20]\n",
    "β = [1.0,1.5,2.0,3.0,4.0,5.0,6.0,7.0,8.0,9.0,10,11,12,13,14,15,20]\n",
    "critical_c = zeros(length(α) + length(β))\n",
    "prob = zeros(length(α) + length(β))\n",
    "for b in length(β):-1:1\n",
    "    prob[length(β) + 1 - b] = 1/(1 + β[b])\n",
    "    i = 1\n",
    "    terminate = false\n",
    "    while i <= length(C) && terminate == false\n",
    "        c = C[i]\n",
    "        M = divisors(c)\n",
    "        U = zeros(length(M))\n",
    "        for i in 1:length(M)        \n",
    "            U[i] = uni_utility_Bb(c,M[i],1,β[b])\n",
    "        end\n",
    "        M_opt = M[findmax(U)[2]]\n",
    "        if M_opt < c\n",
    "            critical_c[length(β) + 1 - b] = C[i-1]\n",
    "            terminate = true\n",
    "        else\n",
    "            i += 1\n",
    "            if C[i] == C[end]\n",
    "                critical_c[length(β) + 1 - b] = C[end]\n",
    "            end\n",
    "        end\n",
    "    end\n",
    "end\n",
    "for a in 1:length(α)\n",
    "    prob[length(β) + a] = α[a]/(1 + α[a])\n",
    "    i = 1\n",
    "    terminate = false\n",
    "    while i <= length(C) && terminate == false\n",
    "        c = C[i]\n",
    "        M = divisors(c)\n",
    "        U = zeros(length(M))\n",
    "        for i in 1:length(M)        \n",
    "            U[i] = uni_utility_Bb(c,M[i],α[a],1)\n",
    "        end\n",
    "        M_opt = M[findmax(U)[2]]\n",
    "        if M_opt < c\n",
    "            critical_c[length(β) + a] = C[i-1]\n",
    "            terminate = true\n",
    "        else\n",
    "            i += 1\n",
    "            if C[i] == C[end]\n",
    "                critical_c[length(β) + a] = C[end]\n",
    "            end\n",
    "        end\n",
    "    end\n",
    "end"
   ]
  },
  {
   "cell_type": "code",
   "execution_count": 9,
   "metadata": {
    "collapsed": false
   },
   "outputs": [
    {
     "data": {
      "image/png": "[encoded data removed]",
      "text/plain": [
       "Figure(PyObject <Figure size 425.197x198.425 with 2 Axes>)"
      ]
     },
     "metadata": {},
     "output_type": "display_data"
    },
    {
     "data": {
      "text/plain": [
       "PyObject <matplotlib.legend.Legend object at 0x7fc8ba949c88>"
      ]
     },
     "execution_count": 9,
     "metadata": {},
     "output_type": "execute_result"
    }
   ],
   "source": [
    "widthCM = 15\n",
    "heightCM = 7\n",
    "f = figure(figsize=(widthCM/2.54, heightCM/2.54), dpi=72)\n",
    "ax = gca()\n",
    "rc(\"text\", usetex=true)\n",
    "rc(\"font\",family=\"serif\", serif = \"Computer Modern\")\n",
    "\n",
    "ax.spines[\"right\"].set_visible(false)\n",
    "ax.spines[\"top\"].set_visible(false)\n",
    "tight_layout(rect = [0.06, 0.04, 1, 1])\n",
    "\n",
    "\n",
    "subplot(1,2,1)\n",
    "plot(prob, exp.(1 .- log.(prob)) , \"--\", label = L\"\\exp(1- \\ln(P))\")\n",
    "plot(prob,critical_c,\"-o\", color =\"gray\", markersize = 3)\n",
    "ylabel(\"Critical capacity C\",fontsize=14)\n",
    "xlabel(L\"\\alpha/(\\alpha + \\beta)\",fontsize=14)\n",
    "legend(loc=1,fontsize=8, ncol = 1, frameon =false);\n",
    "\n",
    "subplot(1,2,2)\n",
    "max = length(prob) #length(β)\n",
    "b,m=linear_fit(log.(prob[1:max]),log.(critical_c[1:max]))\n",
    "M_fitted = exp.(log.(prob).*m .+ b)\n",
    "loglog(prob, M_fitted, \"--\", label = \"m = $(round(m,digits = 1))\")\n",
    "loglog(prob, critical_c, \"o-\", color = \"gray\", markersize = 3)\n",
    "\n",
    "xlabel(L\"\\alpha/(\\alpha + \\beta)\",fontsize=14)\n",
    "\n",
    "legend(loc=1,fontsize=8, ncol = 1, frameon =false)\n",
    "#savefig(\"./fig3a.pdf\")"
   ]
  },
  {
   "cell_type": "code",
   "execution_count": 10,
   "metadata": {
    "collapsed": false
   },
   "outputs": [],
   "source": [
    "max_U = zeros(length(C))\n",
    "M_opt = zeros(length(C))\n",
    "α = [1.5,2.0,3.0,4.0,5.0,6.0,7.0,8.0,9.0,10,11,12,13,14,15,20]\n",
    "β = [1.0,1.5,2.0,3.0,4.0,5.0,6.0,7.0,8.0,9.0,10,11,12,13,14,15,20]\n",
    "exp_fit = zeros(length(α) + length(β))\n",
    "prob = zeros(length(α) + length(β))\n",
    "for b in length(β):-1:1\n",
    "    prob[length(β) + 1 - b] = 1/(1 + β[b])\n",
    "    C = critical_c[b].*[1,2,3,5,7,10,20,30,50,100,300,500,1000].*100\n",
    "    M_opt = zeros(length(C))\n",
    "    for j in 1:length(C)\n",
    "        M = divisors(C[j])\n",
    "        U = zeros(length(M))\n",
    "        for i in 1:length(M)        \n",
    "            U[i] = uni_utility_Bb(C[j],M[i],1,β[b])\n",
    "        end\n",
    "        M_opt[j] = M[findmax(U)[2]]\n",
    "    end\n",
    "    off,m=linear_fit(log.(C),log.(M_opt))\n",
    "    exp_fit[length(β) + 1 - b] = m\n",
    "end\n",
    "for a in 1:length(α)\n",
    "    prob[length(β) + a] = α[a]/(1 + α[a])\n",
    "    #One order of magnitude away from critical capacity\n",
    "    C = critical_c[length(β) + a].*[1,2,3,5,7,10,20,30,50,100,300,500,1000].*100\n",
    "    M_opt = zeros(length(C))\n",
    "    for j in 1:length(C)\n",
    "        M = divisors(C[j])\n",
    "        U = zeros(length(M))\n",
    "        for i in 1:length(M)        \n",
    "            U[i] = uni_utility_Bb(C[j],M[i],α[a],1)\n",
    "        end\n",
    "        M_opt[j] = M[findmax(U)[2]]\n",
    "    end\n",
    "    off,m=linear_fit(log.(C),log.(M_opt))\n",
    "    exp_fit[length(β)+ a] = m\n",
    "end"
   ]
  },
  {
   "cell_type": "code",
   "execution_count": 11,
   "metadata": {
    "collapsed": false
   },
   "outputs": [
    {
     "data": {
      "image/png": "[encoded data removed]",
      "text/plain": [
       "Figure(PyObject <Figure size 283.465x198.425 with 1 Axes>)"
      ]
     },
     "metadata": {},
     "output_type": "display_data"
    },
    {
     "data": {
      "text/plain": [
       "(0.4, 0.9)"
      ]
     },
     "execution_count": 11,
     "metadata": {},
     "output_type": "execute_result"
    }
   ],
   "source": [
    "widthCM = 10\n",
    "heightCM = 7\n",
    "f = figure(figsize=(widthCM/2.54, heightCM/2.54), dpi=72)\n",
    "ax = gca()\n",
    "rc(\"text\", usetex=true)\n",
    "rc(\"font\",family=\"serif\", serif = \"Computer Modern\")\n",
    "\n",
    "ax.spines[\"right\"].set_visible(false)\n",
    "ax.spines[\"top\"].set_visible(false)\n",
    "tight_layout(rect = [0.06, 0.04, 1, 1])\n",
    "\n",
    "plot(prob,exp_fit,\"-o\", color =\"gray\", markersize = 3)\n",
    "ylabel(\"Exponent\",fontsize=14)\n",
    "xlabel(L\"\\alpha/(\\alpha + \\beta)\",fontsize=14)\n",
    "ylim([0.4,0.9])\n",
    "\n",
    "#savefig(\"./fig3b.pdf\")"
   ]
  },
  {
   "cell_type": "markdown",
   "metadata": {},
   "source": [
    "## Figure 4"
   ]
  },
  {
   "cell_type": "markdown",
   "metadata": {},
   "source": [
    "### Panel (a), flat prior"
   ]
  },
  {
   "cell_type": "markdown",
   "metadata": {},
   "source": [
    "With \"stochastic hill climbing\" method"
   ]
  },
  {
   "cell_type": "code",
   "execution_count": null,
   "metadata": {
    "collapsed": false
   },
   "outputs": [],
   "source": [
    "α,β = 1,1\n",
    "#Adjustable number of samples to make the code run faster, 1E6 is good enough\n",
    "utility_precision = 1E3\n",
    "Ls = Any[]\n",
    "us_max = Any[]\n",
    "Cs = collect(1:20)\n",
    "for j in Cs\n",
    "    if j<=7\n",
    "        L = Int64.(ones(j))\n",
    "    else\n",
    "        M = Int64(round(sqrt(j)))\n",
    "        L = zeros(Int64,j)\n",
    "        l_i = Int64(floor(j/M))\n",
    "        for i in 1:M\n",
    "            L[i] = l_i\n",
    "        end\n",
    "        L[M+1]=j-l_i*M\n",
    "    end\n",
    "    push!(L,0)\n",
    "    #Adjust dist_prec to explore more or less distributions\n",
    "    dist_prec = 50\n",
    "    L_opt,u_max = dist_max(α,β,L,dist_prec,utility_precision,alice)\n",
    "    pop!(L_opt)\n",
    "    push!(Ls,L_opt)\n",
    "    push!(us_max,u_max)\n",
    "end"
   ]
  },
  {
   "cell_type": "markdown",
   "metadata": {},
   "source": [
    "With $\\epsilon$ - greedy policy iteration, where seed is depth extreme"
   ]
  },
  {
   "cell_type": "code",
   "execution_count": 12,
   "metadata": {
    "collapsed": false
   },
   "outputs": [],
   "source": [
    "#### THIS ONE TAKES TIME\n",
    "Cs = collect(1:20)\n",
    "α = 1\n",
    "β = 1\n",
    "ϵ = 0.1\n",
    "L_opt = Any[]\n",
    "policies = Any[]\n",
    "Qs = Any[]\n",
    "counts = Any[]\n",
    "ns = Any[]\n",
    "for i in 1:length(Cs)\n",
    "    #Adjust number of episodes to run faster or with more precision\n",
    "    if Cs[i] <= 10\n",
    "        n_episodes = 1E3\n",
    "    else\n",
    "        n_episodes = 1E4\n",
    "    end\n",
    "    seed = [Cs[i]]\n",
    "    p = policy_iteration_Bb(seed,ϵ,Cs[i],α,β,n_episodes);\n",
    "    #pop!(p[1])\n",
    "    for t in length(p[1])+1:Cs[i]\n",
    "        push!(p[1],0)\n",
    "    end\n",
    "    push!(L_opt, p[1])\n",
    "    if Cs[i] == 15\n",
    "    push!(policies, p[2])\n",
    "    push!(Qs, p[3])\n",
    "    push!(counts, p[4])\n",
    "    end\n",
    "    push!(ns, p[end])\n",
    "end"
   ]
  },
  {
   "cell_type": "code",
   "execution_count": 13,
   "metadata": {
    "collapsed": false
   },
   "outputs": [
    {
     "data": {
      "image/png": "[encoded data removed]",
      "text/plain": [
       "Figure(PyObject <Figure size 1000x600 with 20 Axes>)"
      ]
     },
     "metadata": {},
     "output_type": "display_data"
    }
   ],
   "source": [
    "figure(figsize=(10,6))\n",
    "subplots_adjust(wspace=0.5,hspace=0.3)\n",
    "for i in 1:length(Cs)\n",
    "subplot(4,5,i)\n",
    "    annotate(\"C = $(Cs[i])\",\n",
    "\txy=[1;0.6],\n",
    "\txycoords=\"axes fraction\",\n",
    "\txytext=[-10,10],\n",
    "\ttextcoords=\"offset points\",\n",
    "\tfontsize=10.0,\n",
    "\tha=\"right\",\n",
    "\tva=\"bottom\")\n",
    "    yticks([0,1,2,3,4,5,6,7,8,9,10])\n",
    "    if Cs[i] <= 9\n",
    "        xticks([1:1:Cs[i];])\n",
    "    else\n",
    "        xti=[5:5:Cs[i]+1;]\n",
    "        pushfirst!(xti,1)\n",
    "        xticks(xti)\n",
    "    end\n",
    "    x = [1:1:Cs[i];]\n",
    "    bar(x,L_opt[i])\n",
    "end\n",
    "#savefig(\"./fig4a.png\")"
   ]
  },
  {
   "cell_type": "markdown",
   "metadata": {},
   "source": [
    "### Panel (b)-(c), non-flat priors"
   ]
  },
  {
   "cell_type": "code",
   "execution_count": null,
   "metadata": {
    "collapsed": false
   },
   "outputs": [],
   "source": [
    "α_poor = 1\n",
    "β_poor = 3\n",
    "α_rich = 3\n",
    "β_rich = 1\n",
    "#Adjustable number of samples to make the code run faster, 1E6 is good enough\n",
    "utility_precision = 1E3\n",
    "Ls_rich = Any[]\n",
    "Ls_poor = Any[]\n",
    "us_max_rich = Any[]\n",
    "us_max_poor = Any[]\n",
    "Cs = collect(1:20)\n",
    "for j in Cs\n",
    "    if j<=7\n",
    "        L = Int64.(ones(j))\n",
    "    else\n",
    "        M = Int64(round(sqrt(j)))\n",
    "        L = zeros(Int64,j)\n",
    "        l_i = Int64(floor(j/M))\n",
    "        for i in 1:M\n",
    "            L[i] = l_i\n",
    "        end\n",
    "        L[M+1]=j-l_i*M\n",
    "    end\n",
    "    #Adjust dist_prec to explore more or less distributions\n",
    "    dist_prec = 50\n",
    "    L_opt_rich,u_max_rich = dist_max(α_rich,β_rich,L,dist_prec,utility_precision,alice)\n",
    "    L_opt_poor,u_max_poor = dist_max(α_poor,β_poor,L,dist_prec,utility_precision,alice)\n",
    "    push!(Ls_rich,L_opt_rich)\n",
    "    push!(Ls_poor,L_opt_poor)\n",
    "    push!(us_max_rich,u_max_rich)\n",
    "    push!(us_max_poor,u_max_poor)\n",
    "end"
   ]
  },
  {
   "cell_type": "code",
   "execution_count": null,
   "metadata": {
    "collapsed": false,
    "scrolled": false
   },
   "outputs": [],
   "source": [
    "figure(figsize=(10,6))\n",
    "subplots_adjust(wspace=0.5,hspace=0.3)\n",
    "for i in 1:length(Cs)\n",
    "subplot(5,4,i)\n",
    "    annotate(\"C = $(Cs[i])\",\n",
    "\txy=[1;0.6],\n",
    "\txycoords=\"axes fraction\",\n",
    "\txytext=[-10,10],\n",
    "\ttextcoords=\"offset points\",\n",
    "\tfontsize=10.0,\n",
    "\tha=\"right\",\n",
    "\tva=\"bottom\")\n",
    "    yticks([0,1,2,3,4,5,6,7,8,9,10])\n",
    "    if Cs[i] < 9\n",
    "        xticks([1:1:Cs[i];])\n",
    "    else\n",
    "        xti=[5:5:Cs[i]+1;]\n",
    "        pushfirst!(xti,1)\n",
    "        xticks(xti)\n",
    "    end\n",
    "    x = [1:1:Cs[i];]\n",
    "    bar(x,Ls_rich[i])\n",
    "end\n",
    "#savefig(\"./fig4b.png\")"
   ]
  },
  {
   "cell_type": "code",
   "execution_count": null,
   "metadata": {
    "collapsed": false
   },
   "outputs": [],
   "source": [
    "figure(figsize=(10,6))\n",
    "subplots_adjust(wspace=0.5,hspace=0.3)\n",
    "for i in 1:length(Cs)\n",
    "subplot(5,4,i)\n",
    "    annotate(\"C = $(Cs[i])\",\n",
    "\txy=[1;0.6],\n",
    "\txycoords=\"axes fraction\",\n",
    "\txytext=[-10,10],\n",
    "\ttextcoords=\"offset points\",\n",
    "\tfontsize=10.0,\n",
    "\tha=\"right\",\n",
    "\tva=\"bottom\")\n",
    "    yticks([0,1,2,3,4,5,6,7,8,9,10])\n",
    "    if Cs[i] <= 9\n",
    "        xticks([1:1:Cs[i];])\n",
    "    else\n",
    "        xti=[5:5:Cs[i]+1;]\n",
    "        pushfirst!(xti,1)\n",
    "        xticks(xti)\n",
    "    end\n",
    "    x = [1:1:Cs[i];]\n",
    "    bar(x,Ls_poor[i])\n",
    "end\n",
    "#savefig(\"./fig4c.png\")"
   ]
  },
  {
   "cell_type": "markdown",
   "metadata": {},
   "source": [
    "## Figure 5"
   ]
  },
  {
   "cell_type": "code",
   "execution_count": null,
   "metadata": {
    "collapsed": false
   },
   "outputs": [],
   "source": [
    "#This one takes time! To get a rough estimate, decrease the precision below, or the number of perturbations \"sample\"\n",
    "#C = [3,5,7,8,9,10,15,20,30,40]\n",
    "C = [2,3,4,5,6,7,8,9,10,20,50,100,200,500]\n",
    "α_poor = 1\n",
    "β_poor = 3\n",
    "α_rich = 3\n",
    "β_rich = 1\n",
    "alice = false\n",
    "#Adjustable number of samples to make the code run faster\n",
    "utility_precision = 1E3\n",
    "U_uni_flat = zeros(length(C))\n",
    "U_uni_rich = zeros(length(C))\n",
    "U_uni_poor = zeros(length(C))\n",
    "U_optimal_flat = zeros(length(C))\n",
    "U_optimal_rich = zeros(length(C))\n",
    "U_optimal_poor = zeros(length(C))\n",
    "Ls_flat = Any[]\n",
    "Ls_rich = Any[]\n",
    "Ls_poor = Any[]\n",
    "U_optimal_flat = Any[]\n",
    "U_optimal_rich = Any[]\n",
    "U_optimal_poor = Any[]\n",
    "M_opt_flat = zeros(length(C))\n",
    "M_opt_rich = zeros(length(C))\n",
    "M_opt_poor = zeros(length(C))\n",
    "for j in 1:length(C)\n",
    "    M = divisors(C[j])\n",
    "    #Square-root law heuristic\n",
    "    if C[j]<=7\n",
    "        L = Int64.(ones(C[j]))\n",
    "    else\n",
    "        M_o = Int64(floor(sqrt(C[j])))\n",
    "        L = zeros(Int64,C[j])\n",
    "        for i in 1:M_o\n",
    "             L[i] = M_o\n",
    "        end\n",
    "        L[M_o+1]=C[j]-M_o*M_o\n",
    "    end\n",
    "    #Estimate the estimate of utility for square-root distributions with following precision\n",
    "    uni_prec = 1E4\n",
    "    #U_uni_flat[j]=utility_estimate(L,3,3,uni_prec,alice)\n",
    "    #U_uni_poor[j]=utility_estimate(L,α_poor,β_poor,uni_prec,alice)\n",
    "    #U_uni_rich[j]=utility_estimate(L,α_rich,β_rich,uni_prec,alice)\n",
    "    #Setting the number of perturbations proposed\n",
    "    if C[j] >= 100\n",
    "        sample = 2500\n",
    "    else\n",
    "        sample = 20*C[j]\n",
    "    end\n",
    "    #Optimal distribution\n",
    "    L_opt_rich,u_max_rich = dist_max(α_rich,β_rich,L,sample,utility_precision,alice)\n",
    "    L_opt_poor,u_max_poor = dist_max(α_poor,β_poor,L,sample,utility_precision,alice)\n",
    "    L_opt_flat,u_max_flat = dist_max(1,1,L,sample,utility_precision,alice)\n",
    "    push!(Ls_flat,L_opt_flat)\n",
    "    push!(Ls_rich,L_opt_rich)\n",
    "    push!(Ls_poor,L_opt_poor)\n",
    "    push!(U_optimal_flat,u_max_flat)\n",
    "    push!(U_optimal_rich,u_max_rich)\n",
    "    push!(U_optimal_poor,u_max_poor)\n",
    "end"
   ]
  },
  {
   "cell_type": "markdown",
   "metadata": {},
   "source": [
    "#### Panel (a)"
   ]
  },
  {
   "cell_type": "code",
   "execution_count": null,
   "metadata": {
    "collapsed": true
   },
   "outputs": [],
   "source": [
    "semilogx(C,((U_optimal_flat-U_uni_flat)./(U_uni_flat)).*100,\"-\",label=\"Flat\")\n",
    "semilogx(C,((U_optimal_rich-U_uni_rich)./(U_uni_rich)).*100,\"-\",label=\"rich\")\n",
    "semilogx(C,((U_optimal_poor-U_uni_poor)./(U_uni_poor)).*100,\"-\",label=\"poor\")\n",
    "xticks(C)\n",
    "yticks([-5,0,5,10])\n",
    "legend()\n",
    "xlabel(\"Capacity\")\n",
    "ylabel(\"% improvement\");\n",
    "#savefig(\"./fig5a.png\")"
   ]
  },
  {
   "cell_type": "markdown",
   "metadata": {},
   "source": [
    "#### Panel (b)"
   ]
  },
  {
   "cell_type": "code",
   "execution_count": null,
   "metadata": {
    "collapsed": true
   },
   "outputs": [],
   "source": [
    "frac_sampled_flat = zeros(length(C))\n",
    "frac_sampled_rich = zeros(length(C))\n",
    "frac_sampled_poor = zeros(length(C))\n",
    "for j in 1:length(C)\n",
    "    for i in 1:length(Ls_flat[j])\n",
    "        if Ls_flat[j][i] > 0\n",
    "            frac_sampled_flat[j] += 1\n",
    "        end\n",
    "        if Ls_poor[j][i] > 0\n",
    "            frac_sampled_poor[j] += 1\n",
    "        end\n",
    "        if Ls_rich[j][i] > 0\n",
    "            frac_sampled_rich[j] += 1\n",
    "        end\n",
    "    end\n",
    "end"
   ]
  },
  {
   "cell_type": "code",
   "execution_count": null,
   "metadata": {
    "collapsed": false,
    "scrolled": false
   },
   "outputs": [],
   "source": [
    "widthCM = 8\n",
    "heightCM = 7\n",
    "f = figure(figsize=(widthCM/2.54, heightCM/2.54), dpi=72)\n",
    "plot(C,frac_sampled_poor./C,\"o-\",label=\"Poor\")\n",
    "plot(C,frac_sampled_flat./C,\"o-\",label=\"Neutral\")\n",
    "plot(C,frac_sampled_rich./C,\"o-\",label=\"Rich\")\n",
    "tight_layout(rect = [0.06, 0.04, 1, 1])\n",
    "\n",
    "#xticks(C)\n",
    "yticks([0,0.5,1])\n",
    "legend()\n",
    "xlabel(\"capacity\",fontsize = 14)\n",
    "ylabel(\"M/capacity\",fontsize = 14);\n",
    "#savefig(\"./fig5b.pdf\")"
   ]
  },
  {
   "cell_type": "markdown",
   "metadata": {},
   "source": [
    "## Figure 6"
   ]
  },
  {
   "cell_type": "code",
   "execution_count": 14,
   "metadata": {
    "collapsed": true
   },
   "outputs": [],
   "source": [
    "#### THIS ONE TAKES TIME\n",
    "Cs = collect(1:20)\n",
    "α = 1\n",
    "β = 1\n",
    "ϵ = 0.1\n",
    "M_opt = Any[]\n",
    "policies = Any[]\n",
    "Qs = Any[]\n",
    "counts = Any[]\n",
    "ns = Any[]\n",
    "for i in 1:length(Cs)\n",
    "    if Cs[i] <= 5\n",
    "        n_episodes = 1E5\n",
    "    else\n",
    "        n_episodes = 1E6\n",
    "    end\n",
    "    seed = [Cs[i],0]\n",
    "    p = policy_iteration(seed,ϵ,Cs[i],α,β,n_episodes);\n",
    "    pop!(p[1])\n",
    "    for t in length(p[1])+1:Cs[i]\n",
    "        push!(p[1],0)\n",
    "    end\n",
    "    push!(M_opt, p[1])\n",
    "    if Cs[i] == 15\n",
    "    push!(policies, p[2])\n",
    "    push!(Qs, p[3])\n",
    "    push!(counts, p[4])\n",
    "    end\n",
    "    push!(ns, p[end])\n",
    "end"
   ]
  },
  {
   "cell_type": "code",
   "execution_count": 15,
   "metadata": {
    "collapsed": false
   },
   "outputs": [
    {
     "data": {
      "image/png": "[encoded data removed]",
      "text/plain": [
       "Figure(PyObject <Figure size 1000x600 with 20 Axes>)"
      ]
     },
     "metadata": {},
     "output_type": "display_data"
    }
   ],
   "source": [
    "figure(figsize=(10,6))\n",
    "subplots_adjust(wspace=0.5,hspace=0.3)\n",
    "suptitle(\"Optimal M as a function of wave\")\n",
    "for i in 1:length(Cs)\n",
    "subplot(4,5,i)\n",
    "    annotate(\"C = $(Cs[i])\",\n",
    "\txy=[1;0.65],\n",
    "\txycoords=\"axes fraction\",\n",
    "\txytext=[-10,10],\n",
    "\ttextcoords=\"offset points\",\n",
    "\tfontsize=10.0,\n",
    "\tha=\"right\",\n",
    "\tva=\"bottom\")\n",
    "\n",
    "    if Cs[i] <= 9\n",
    "        xticks([1:1:Cs[i];])\n",
    "    else\n",
    "        xti=[5:5:Cs[i]+1;]\n",
    "        pushfirst!(xti,1)\n",
    "        xticks(xti)\n",
    "    end\n",
    "    if Cs[i] <= 15\n",
    "        yticks([0,1,2,3,4,5,6,7,8,9,10])\n",
    "    else\n",
    "        yticks(collect(0:2:maximum(M_opt[i])))\n",
    "    end\n",
    "    x = [1:1:Cs[i];]\n",
    "    bar(x,M_opt[i],color = \"gray\")\n",
    "end\n",
    "#savefig(\"./fig6a.pdf\")"
   ]
  },
  {
   "cell_type": "markdown",
   "metadata": {},
   "source": [
    "Looking at the utility of the many policies we have evaluated"
   ]
  },
  {
   "cell_type": "code",
   "execution_count": 16,
   "metadata": {
    "collapsed": false
   },
   "outputs": [
    {
     "data": {
      "image/png": "[encoded data removed]",
      "text/plain": [
       "Figure(PyObject <Figure size 1000x600 with 1 Axes>)"
      ]
     },
     "metadata": {},
     "output_type": "display_data"
    },
    {
     "data": {
      "text/plain": [
       "PyObject Text(0.5, 24.0, 'Sorted explored policies')"
      ]
     },
     "execution_count": 16,
     "metadata": {},
     "output_type": "execute_result"
    }
   ],
   "source": [
    "figure(figsize=(10,6))\n",
    "x = [1:1:length(Qs[1]);]\n",
    "bar(x,sort(Qs[1], rev=true),color = \"gray\")\n",
    "ylim([0.5,1.0])\n",
    "ylabel(\"Utility\")\n",
    "xlabel(\"Sorted explored policies\")\n",
    "#savefig(\"qs_C_15_e_0p1.pdf\")"
   ]
  },
  {
   "cell_type": "markdown",
   "metadata": {},
   "source": [
    "## SI: Gaussian distributed samples"
   ]
  },
  {
   "cell_type": "code",
   "execution_count": 17,
   "metadata": {
    "collapsed": false
   },
   "outputs": [
    {
     "data": {
      "image/png": "[encoded data removed]",
      "text/plain": [
       "Figure(PyObject <Figure size 226.772x198.425 with 1 Axes>)"
      ]
     },
     "metadata": {},
     "output_type": "display_data"
    }
   ],
   "source": [
    "widthCM = 8\n",
    "heightCM = 7\n",
    "f = figure(figsize=(widthCM/2.54, heightCM/2.54), dpi=72)\n",
    "ax = gca()\n",
    "rc(\"text\", usetex=true)\n",
    "rc(\"font\",family=\"serif\", serif = \"Computer Modern\")\n",
    "C = [4,10,100]\n",
    "ax.spines[\"right\"].set_visible(false)\n",
    "ax.spines[\"top\"].set_visible(false)\n",
    "N_sim = 1E5\n",
    "N_points = 1E5\n",
    "σ = 1\n",
    "colors = get_cmap(\"gray_r\")\n",
    "cindex = [0.1,0.5,0.9]\n",
    "for j in 1:length(C)\n",
    "    M = divisors(C[j])\n",
    "    U_sim = zeros(length(M))\n",
    "    U_arb = zeros(length(M))\n",
    "    U = zeros(length(M))\n",
    "    var = zeros(length(M))\n",
    "    for i in 1:length(M)\n",
    "        L = ones(Int64,M[i]).*Int64(C[j]/M[i])\n",
    "        U[i] = utility_uniform_Gauss(C[j],M[i],σ,N_points)\n",
    "        U_sim[i] = utility_sim_Gauss(L,σ,N_sim)\n",
    "    end\n",
    "    errs = sqrt.(var)\n",
    "    plot(M,U,\"-\",color = colors(cindex[j]), label=string(\"C = \",C[j]))\n",
    "    plot(M,U_sim,\"ko\",markersize = 3)\n",
    "end\n",
    "tight_layout(rect = [0.06, 0.04, 1, 1])\n",
    "legend(loc=4,fontsize=10, ncol = 1, frameon =false);\n",
    "xscale(\"log\")\n",
    "yticks([0.5,0.6,0.7,0.8]);\n",
    "ylabel(\"Expected utility\",fontsize = 12)\n",
    "xlabel(\"M, sampled alternatives\",fontsize = 12);\n",
    "#savefig(\"./SIa.pdf\")"
   ]
  },
  {
   "cell_type": "code",
   "execution_count": 18,
   "metadata": {
    "collapsed": false
   },
   "outputs": [],
   "source": [
    "C = [2,3,5,7,10,15,20,50,70,100,300,500,700,1000,3000,10000]\n",
    "max_U_1 = zeros(length(C))\n",
    "max_U_2 = zeros(length(C))\n",
    "max_U_3 = zeros(length(C))\n",
    "M_opt_1 = zeros(length(C))\n",
    "M_opt_2 = zeros(length(C))\n",
    "M_opt_3 = zeros(length(C))\n",
    "M_opt_1_sim = zeros(length(C))\n",
    "M_opt_2_sim = zeros(length(C))\n",
    "M_opt_3_sim = zeros(length(C))\n",
    "σ_1 = 0.1\n",
    "σ_2 = 1\n",
    "σ_3 = 10\n",
    "alice = false\n",
    "N_sim = Int64(1E5)\n",
    "N_points = Int64(1E4)\n",
    "C_sim = 100\n",
    "for j in 1:length(C)\n",
    "    M = divisors(C[j])\n",
    "    U_1_sim = zeros(length(M))\n",
    "    U_2_sim = zeros(length(M))\n",
    "    U_3_sim = zeros(length(M))\n",
    "    U_1_ana = zeros(length(M))\n",
    "    U_2_ana = zeros(length(M))\n",
    "    U_3_ana = zeros(length(M))\n",
    "    for i in 1:length(M)        \n",
    "        L = ones(Int64,M[i]).*Int64(C[j]/M[i])\n",
    "        if C[j] <= C_sim\n",
    "            U_1_sim[i] = utility_sim_Gauss(L,σ_1,N_sim,alice)\n",
    "            U_2_sim[i] = utility_sim_Gauss(L,σ_2,N_sim,alice)\n",
    "            U_3_sim[i] = utility_sim_Gauss(L,σ_3,N_sim,alice)\n",
    "        end\n",
    "        U_1_ana[i] = utility_uniform_Gauss(C[j],M[i],σ_1,N_points)\n",
    "        U_2_ana[i] = utility_uniform_Gauss(C[j],M[i],σ_2,N_points)\n",
    "        U_3_ana[i] = utility_uniform_Gauss(C[j],M[i],σ_3,N_points)#uni_utility(C[j],M[i],α_poor,β_poor,alice)\n",
    "    end\n",
    "    M_opt_1[j] = M[findmax(U_1_ana)[2]]\n",
    "    M_opt_2[j] = M[findmax(U_2_ana)[2]]\n",
    "    M_opt_3[j] = M[findmax(U_3_ana)[2]]\n",
    "    M_opt_1_sim[j] = M[findmax(U_1_sim)[2]]\n",
    "    M_opt_2_sim[j] = M[findmax(U_2_sim)[2]]\n",
    "    M_opt_3_sim[j] = M[findmax(U_3_sim)[2]]\n",
    "end"
   ]
  },
  {
   "cell_type": "code",
   "execution_count": 19,
   "metadata": {
    "collapsed": false
   },
   "outputs": [
    {
     "data": {
      "image/png": "[encoded data removed]",
      "text/plain": [
       "Figure(PyObject <Figure size 340.157x255.118 with 1 Axes>)"
      ]
     },
     "metadata": {},
     "output_type": "display_data"
    }
   ],
   "source": [
    "widthCM = 12\n",
    "heightCM = 9\n",
    "f = figure(figsize=(widthCM/2.54, heightCM/2.54), dpi=72)\n",
    "ax = gca()\n",
    "ax.spines[\"right\"].set_visible(false)\n",
    "ax.spines[\"top\"].set_visible(false)\n",
    "sim_cutoff = 11\n",
    "colors = get_cmap(\"copper_r\")\n",
    "cindex = [0.1,0.5,0.9]\n",
    "loglog(C,M_opt_1,\"x-\",color = colors(cindex[1]),linewidth=1,label=L\"\\sigma = 0.1\",markersize = 2)\n",
    "loglog(C,M_opt_2,\"bx-\",linewidth=1, label=L\"\\sigma = 1\",markersize = 2)\n",
    "loglog(C,M_opt_3,\"x-\",color = colors(0.6),linewidth=1,label=L\"\\sigma = 10\",markersize = 2)\n",
    "\n",
    "loglog(C[1:sim_cutoff],M_opt_1_sim[1:sim_cutoff],\"o\",color = colors(cindex[1]),markersize=5)\n",
    "loglog(C[1:sim_cutoff],M_opt_2_sim[1:sim_cutoff],\"bo\",markersize=5)\n",
    "loglog(C[1:sim_cutoff],M_opt_3_sim[1:sim_cutoff],\"o\",color = colors(0.6),markersize=5)\n",
    "\n",
    "#Fit only when trend starts growing\n",
    "sig1end = 10\n",
    "sig2end = 10\n",
    "sig3end = 15\n",
    "start = fend + 1\n",
    "b1p,m1p=linear_fit(log.(C[1:sig1end]),log.(M_opt_1_sim[1:sig1end]))\n",
    "b2p,m2p=linear_fit(log.(C[sig1end+1:end]),log.(M_opt_1[sig1end+1:end]))\n",
    "b2r,m2r=linear_fit(log.(C[sig2end+1:end]),log.(M_opt_2[sig2end+1:end]))\n",
    "b23,m23=linear_fit(log.(C[sig3end+1:end]),log.(M_opt_3[sig3end+1:end]))\n",
    "\n",
    "M_fitted1p = exp.(log.(C[1:end]).*m1p .+ b1p)\n",
    "M_fitted2p = exp.(log.(C[sig1end+1:end]).*m2p .+ b2p)\n",
    "M_fitted2r = exp.(log.(C[sig2end+1:end]).*m2r .+ b2r)\n",
    "M_fitted23 = exp.(log.(C[sig3end+1:end]).*m23 .+ b23)\n",
    "loglog(C[1:end],M_fitted1p,\"--\",color = \"gray\")\n",
    "loglog(C[sig1end+1:end],M_fitted2p,\"--\",color = \"gray\")\n",
    "loglog(C[sig2end+1:end],M_fitted2r,\"--\",color = \"gray\")\n",
    "loglog(C[sig3end+1:end],M_fitted23,\"--\",color = \"gray\")\n",
    "\n",
    "tight_layout(rect = [0.06, 0.04, 1, 1])\n",
    "\n",
    "xlabel(\"Capacity\",fontsize=14)\n",
    "ylabel(\"Optimal M\",fontsize=14)\n",
    "legend(loc=2,fontsize=8, ncol = 1, frameon =false);\n",
    "#savefig(\"./SIb.pdf\")"
   ]
  }
 ],
 "metadata": {
  "@webio": {
   "lastCommId": null,
   "lastKernelId": null
  },
  "anaconda-cloud": {},
  "kernelspec": {
   "display_name": "Julia 1.1.0",
   "language": "julia",
   "name": "julia-1.1"
  },
  "language_info": {
   "file_extension": ".jl",
   "mimetype": "application/julia",
   "name": "julia",
   "version": "1.1.0"
  }
 },
 "nbformat": 4,
 "nbformat_minor": 2
}
