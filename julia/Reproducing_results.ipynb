{
 "cells": [
  {
   "cell_type": "markdown",
   "metadata": {},
   "source": [
    "# Breadth-depth dilemma"
   ]
  },
  {
   "cell_type": "markdown",
   "metadata": {},
   "source": [
    "Notebook that goes through the reproduction of figures for the paper \"Sampling few options is the optimal solution to the breadth-depth dilemma in a finite sample capacity model of decision-making\". All the functions used are in \"Functions.jl\" Julia module."
   ]
  },
  {
   "cell_type": "code",
   "execution_count": null,
   "metadata": {
    "collapsed": true
   },
   "outputs": [],
   "source": [
    "push!(LOAD_PATH, \"./\");"
   ]
  },
  {
   "cell_type": "code",
   "execution_count": null,
   "metadata": {
    "collapsed": false
   },
   "outputs": [],
   "source": [
    "using PyPlot, CurveFit, Functions"
   ]
  },
  {
   "cell_type": "markdown",
   "metadata": {},
   "source": [
    "## Figure 1\n",
    "### Panel (a)"
   ]
  },
  {
   "cell_type": "code",
   "execution_count": null,
   "metadata": {
    "collapsed": false
   },
   "outputs": [],
   "source": [
    "figure(figsize=(10,6))\n",
    "C = collect(20:40:140)\n",
    "for j in 1:length(C)\n",
    "    M = divisors(C[j])\n",
    "    U = zeros(length(M))\n",
    "    for i in 1:length(M)\n",
    "        U[i] = uni_utility_flat(C[j],M[i])\n",
    "    end\n",
    "    semilogx(M,U,\"-o\",label=string(\"C = \",C[j]))\n",
    "end\n",
    "legend()\n",
    "ylabel(\"Utility\")\n",
    "xlabel(\"M, sampled alternatives\");\n",
    "#savefig(\"fig2a.png\")"
   ]
  },
  {
   "cell_type": "code",
   "execution_count": null,
   "metadata": {
    "collapsed": true
   },
   "outputs": [],
   "source": [
    "C = [1,2,3,4,5,6,7,10,50,100,500,1000,5000,10000,50000]\n",
    "max_U = zeros(length(C))\n",
    "M_opt = zeros(length(C))\n",
    "max_U_rich = zeros(length(C))\n",
    "M_opt_rich = zeros(length(C))\n",
    "max_U_poor = zeros(length(C))\n",
    "M_opt_poor = zeros(length(C))\n",
    "α_poor = 1\n",
    "β_poor = 3\n",
    "α_rich = 3\n",
    "β_rich = 1\n",
    "for j in 1:length(C)\n",
    "    M = divisors(C[j])\n",
    "    U_rich = zeros(length(M))\n",
    "    U_poor = zeros(length(M))\n",
    "    U = zeros(length(M))\n",
    "    for i in 1:length(M)\n",
    "        U[i] = uni_utility_flat(C[j],M[i])\n",
    "        U_rich[i] = uni_utility(C[j],M[i],α_rich,β_rich)\n",
    "        U_poor[i] = uni_utility(C[j],M[i],α_poor,β_poor)\n",
    "    end\n",
    "    max_U[j] = findmax(U)[1]\n",
    "    M_opt[j] = M[findmax(U)[2]]\n",
    "    max_U_rich[j] = findmax(U_rich)[1]\n",
    "    M_opt_rich[j] = M[findmax(U_rich)[2]]\n",
    "    max_U_poor[j] = findmax(U_poor)[1]\n",
    "    M_opt_poor[j] = M[findmax(U_poor)[2]]\n",
    "end"
   ]
  },
  {
   "cell_type": "markdown",
   "metadata": {},
   "source": [
    "### Panel (b)"
   ]
  },
  {
   "cell_type": "code",
   "execution_count": null,
   "metadata": {
    "collapsed": false
   },
   "outputs": [],
   "source": [
    "figure(figsize=(10,6))\n",
    "loglog(C,M_opt,\"-o\")\n",
    "b1,m1=linear_fit(log.(C[1:5]),log.(M_opt[1:5]))\n",
    "b2,m2=linear_fit(log.(C[8:end]),log.(M_opt[8:end]))\n",
    "M_fitted1 = exp.(log.(C[1:end]).*m1 .+ b1)\n",
    "M_fitted2 = exp.(log.(C[8:end]).*m2 .+ b2)\n",
    "loglog(C[1:end],M_fitted1,\"--\",label=string(\"m = \",round(m1,digits=2)))\n",
    "loglog(C[8:end],M_fitted2,\"--\",label=string(\"m = \",round(m2,digits=2)))\n",
    "legend()\n",
    "ylabel(\"Optimal M\")\n",
    "xlabel(\"Capacity\");\n",
    "#savefig(\"fig2b.png\")"
   ]
  },
  {
   "cell_type": "markdown",
   "metadata": {},
   "source": [
    "### Panel (c)-(d)"
   ]
  },
  {
   "cell_type": "code",
   "execution_count": null,
   "metadata": {
    "collapsed": false
   },
   "outputs": [],
   "source": [
    "figure(figsize=(10,6))\n",
    "semilogx(C,M_opt./C,\"-o\")\n",
    "semilogx(C,M_opt_rich./C,\"-o\",label=\"rich\")\n",
    "semilogx(C,M_opt./C,\"-o\",label=\"flat\")\n",
    "semilogx(C,M_opt_poor./C,\"-o\",label=\"poor\")\n",
    "legend()\n",
    "#xlim([0,64])\n",
    "ylabel(\"Optimal M/C\")\n",
    "xlabel(\"Capacity\")\n",
    "ylabel(\"Optimal M/C\")\n",
    "xlabel(\"Capacity\");"
   ]
  },
  {
   "cell_type": "markdown",
   "metadata": {
    "collapsed": true
   },
   "source": [
    "### Fits for non-flat priors"
   ]
  },
  {
   "cell_type": "code",
   "execution_count": null,
   "metadata": {
    "collapsed": false
   },
   "outputs": [],
   "source": [
    "figure(figsize=(10,5))\n",
    "loglog(C,M_opt_rich,\"-o\",label=\"rich\")\n",
    "loglog(C,M_opt_poor,\"-o\",label=\"poor\")\n",
    "b1,m1=linear_fit(log.(C[8:end]),log.(M_opt_rich[8:end]))\n",
    "b2,m2=linear_fit(log.(C[8:end]),log.(M_opt_poor[8:end]))\n",
    "M_fitted1 = exp.(log.(C[8:end]).*m1 .+ b1)\n",
    "M_fitted2 = exp.(log.(C[8:end]).*m2 .+ b2)\n",
    "loglog(C[8:end],M_fitted1,\"--\",label=string(\"m = \",round(m1,digits=2)))\n",
    "loglog(C[8:end],M_fitted2,\"--\",label=string(\"m = \",round(m2,digits=2)))\n",
    "legend()\n",
    "ylabel(\"Optimal M\")\n",
    "xlabel(\"Capacity\");"
   ]
  },
  {
   "cell_type": "markdown",
   "metadata": {},
   "source": [
    "## Figure 3"
   ]
  },
  {
   "cell_type": "markdown",
   "metadata": {},
   "source": [
    "### Panel (a), flat prior"
   ]
  },
  {
   "cell_type": "code",
   "execution_count": null,
   "metadata": {
    "collapsed": true
   },
   "outputs": [],
   "source": [
    "α,β = 1,1\n",
    "#Adjustable number of samples to make the code run faster, 1E6 is good enough\n",
    "utility_precision = 1E6\n",
    "Ls = Any[]\n",
    "us_max = Any[]\n",
    "push!(Ls,[1])\n",
    "push!(us_max,0.5)\n",
    "for j in 2:20\n",
    "    if j<=7\n",
    "        L = Int64.(ones(j))\n",
    "    else\n",
    "        M = Int64(round(sqrt(j)))\n",
    "        L = zeros(Int64,j)\n",
    "        l_i = Int64(floor(j/M))\n",
    "        for i in 1:M\n",
    "            L[i] = l_i\n",
    "        end\n",
    "        L[M+1]=j-l_i*M\n",
    "    end\n",
    "    push!(L,0)\n",
    "    #Adjust 20*j to explore more or less distributions\n",
    "    L_opt,u_max = dist_max(α,β,L,20*j,utility_precision)\n",
    "    pop!(L_opt)\n",
    "    push!(Ls,L_opt)\n",
    "    push!(us_max,u_max)\n",
    "end"
   ]
  },
  {
   "cell_type": "code",
   "execution_count": null,
   "metadata": {
    "collapsed": false
   },
   "outputs": [],
   "source": [
    "figure(figsize=(10,6))\n",
    "subplots_adjust(wspace=0.5,hspace=0.3)\n",
    "for i in 1:20\n",
    "subplot(4,5,i)\n",
    "    annotate(\"C = $(i)\",\n",
    "\txy=[1;0.6],\n",
    "\txycoords=\"axes fraction\",\n",
    "\txytext=[-10,10],\n",
    "\ttextcoords=\"offset points\",\n",
    "\tfontsize=10.0,\n",
    "\tha=\"right\",\n",
    "\tva=\"bottom\")\n",
    "    yticks([0,1,2,3,4,5])\n",
    "    if i < 9\n",
    "    xticks([1:1:i;])\n",
    "    else\n",
    "        xti=[5:5:i+1;]\n",
    "        pushfirst!(xti,1)\n",
    "        xticks(xti)\n",
    "    end\n",
    "    x = [1:1:i;]\n",
    "    bar(x,Ls[i])\n",
    "end\n",
    "#savefig(\"./figures/fig3a.png\")"
   ]
  },
  {
   "cell_type": "markdown",
   "metadata": {},
   "source": [
    "### Panel (b)-(c), non-flat priors"
   ]
  },
  {
   "cell_type": "code",
   "execution_count": null,
   "metadata": {
    "collapsed": true
   },
   "outputs": [],
   "source": [
    "α_poor = 1\n",
    "β_poor = 3\n",
    "α_rich = 3\n",
    "β_rich = 1\n",
    "#Adjustable number of samples to make the code run faster, 1E6 is good enough\n",
    "utility_precision = 1E6\n",
    "Ls_rich = Any[]\n",
    "Ls_poor = Any[]\n",
    "us_max_rich = Any[]\n",
    "us_max_poor = Any[]\n",
    "for j in 2:20\n",
    "    if j<=7\n",
    "        L = Int64.(ones(j))\n",
    "    else\n",
    "        M = Int64(round(sqrt(j)))\n",
    "        L = zeros(Int64,j)\n",
    "        l_i = Int64(floor(j/M))\n",
    "        for i in 1:M\n",
    "            L[i] = l_i\n",
    "        end\n",
    "        L[M+1]=j-l_i*M\n",
    "    end\n",
    "    #Adjust 20*j to explore more or less distributions\n",
    "    L_opt_rich,u_max_rich = dist_max(α_rich,β_rich,L,20*j,utility_precision)\n",
    "    L_opt_poor,u_max_poor = dist_max(α_poor,β_poor,L,20*j,utility_precision)\n",
    "    push!(Ls_rich,L_opt_rich)\n",
    "    push!(Ls_poor,L_opt_poor)\n",
    "    push!(us_max_rich,u_max_rich)\n",
    "    push!(us_max_poor,u_max_poor)\n",
    "end"
   ]
  },
  {
   "cell_type": "code",
   "execution_count": null,
   "metadata": {
    "collapsed": false
   },
   "outputs": [],
   "source": [
    "pushfirst!(Ls_rich,[1])\n",
    "figure(figsize=(10,6))\n",
    "subplots_adjust(wspace=0.5,hspace=0.3)\n",
    "for i in 1:20\n",
    "subplot(4,5,i)\n",
    "    annotate(\"C = $(i)\",\n",
    "\txy=[1;0.6],\n",
    "\txycoords=\"axes fraction\",\n",
    "\txytext=[-10,10],\n",
    "\ttextcoords=\"offset points\",\n",
    "\tfontsize=10.0,\n",
    "\tha=\"right\",\n",
    "\tva=\"bottom\")\n",
    "    yticks([0,1,2,3,4,5])\n",
    "    if i < 9\n",
    "    xticks([1:1:i;])\n",
    "    else\n",
    "        xti=[5:5:i+1;]\n",
    "        pushfirst!(xti,1)\n",
    "        xticks(xti)\n",
    "    end\n",
    "    x = [1:1:i;]\n",
    "    bar(x,Ls_rich[i])\n",
    "end\n",
    "#savefig(\"./figures/fig3b.png\")"
   ]
  },
  {
   "cell_type": "code",
   "execution_count": null,
   "metadata": {
    "collapsed": false
   },
   "outputs": [],
   "source": [
    "pushfirst!(Ls_poor,[1])\n",
    "figure(figsize=(10,6))\n",
    "subplots_adjust(wspace=0.5,hspace=0.3)\n",
    "for i in 1:20\n",
    "subplot(4,5,i)\n",
    "    annotate(\"C = $(i)\",\n",
    "\txy=[1;0.6],\n",
    "\txycoords=\"axes fraction\",\n",
    "\txytext=[-10,10],\n",
    "\ttextcoords=\"offset points\",\n",
    "\tfontsize=10.0,\n",
    "\tha=\"right\",\n",
    "\tva=\"bottom\")\n",
    "    yticks([0,1,2,3,4,5])\n",
    "    if i < 9\n",
    "    xticks([1:1:i;])\n",
    "    else\n",
    "        xti=[5:5:i+1;]\n",
    "        pushfirst!(xti,1)\n",
    "        xticks(xti)\n",
    "    end\n",
    "    x = [1:1:i;]\n",
    "    bar(x,Ls_poor[i])\n",
    "end\n",
    "#savefig(\"./figures/fig3c.png\")"
   ]
  },
  {
   "cell_type": "markdown",
   "metadata": {},
   "source": [
    "## Figure 4"
   ]
  },
  {
   "cell_type": "code",
   "execution_count": null,
   "metadata": {
    "collapsed": false
   },
   "outputs": [],
   "source": [
    "#This one takes time! To get a rough estimate, decrease the precision below, or the number of perturbations \"sample\"\n",
    "C = [2,3,4,5,6,7,8,9,10,20,50,100,200,500]\n",
    "α_poor = 1\n",
    "β_poor = 3\n",
    "α_rich = 3\n",
    "β_rich = 1\n",
    "#Adjustable number of samples to make the code run faster\n",
    "utility_precision = 1E6\n",
    "U_uni_flat = zeros(length(C))\n",
    "U_uni_rich = zeros(length(C))\n",
    "U_uni_poor = zeros(length(C))\n",
    "U_optimal_flat = zeros(length(C))\n",
    "U_optimal_rich = zeros(length(C))\n",
    "U_optimal_poor = zeros(length(C))\n",
    "Ls_flat = Any[]\n",
    "Ls_rich = Any[]\n",
    "Ls_poor = Any[]\n",
    "U_optimal_flat = Any[]\n",
    "U_optimal_rich = Any[]\n",
    "U_optimal_poor = Any[]\n",
    "M_opt_flat = zeros(length(C))\n",
    "M_opt_rich = zeros(length(C))\n",
    "M_opt_poor = zeros(length(C))\n",
    "for j in 1:length(C)\n",
    "    M = divisors(C[j])\n",
    "    #Square-root law heuristic\n",
    "    if C[j]<=7\n",
    "        L = Int64.(ones(C[j]))\n",
    "    else\n",
    "        M_o = Int64(floor(sqrt(C[j])))\n",
    "        L = zeros(Int64,C[j])\n",
    "        for i in 1:M_o\n",
    "             L[i] = M_o\n",
    "        end\n",
    "        L[M_o+1]=C[j]-M_o*M_o\n",
    "    end\n",
    "    #Estimate the estimate of utility for square-root distributions with following precision\n",
    "    uni_prec = 1E6\n",
    "    U_uni_flat[j]=utility_estimate(L,1,1,uni_prec)\n",
    "    U_uni_poor[j]=utility_estimate(L,α_poor,β_poor,uni_prec)\n",
    "    U_uni_rich[j]=utility_estimate(L,α_rich,β_rich,uni_prec)\n",
    "    #Setting the number of perturbations proposed\n",
    "    if C[j] >= 100\n",
    "        sample = 2500\n",
    "    else\n",
    "        sample = 50*C[j]\n",
    "    end\n",
    "    #Optimal distribution\n",
    "    L_opt_rich,u_max_rich = dist_max(α_rich,β_rich,L,sample,utility_precision)\n",
    "    L_opt_poor,u_max_poor = dist_max(α_poor,β_poor,L,sample,utility_precision)\n",
    "    L_opt_flat,u_max_flat = dist_max(1,1,L,sample,utility_precision)\n",
    "    push!(Ls_flat,L_opt_flat)\n",
    "    push!(Ls_rich,L_opt_rich)\n",
    "    push!(Ls_poor,L_opt_poor)\n",
    "    push!(U_optimal_flat,u_max_flat)\n",
    "    push!(U_optimal_rich,u_max_rich)\n",
    "    push!(U_optimal_poor,u_max_poor)\n",
    "end"
   ]
  },
  {
   "cell_type": "markdown",
   "metadata": {},
   "source": [
    "### Panel (a)"
   ]
  },
  {
   "cell_type": "code",
   "execution_count": null,
   "metadata": {
    "collapsed": false
   },
   "outputs": [],
   "source": [
    "semilogx(C,((U_optimal_flat-U_uni_flat)./(U_uni_flat)).*100,\"-\",label=\"Flat\")\n",
    "semilogx(C,((U_optimal_rich-U_uni_rich)./(U_uni_rich)).*100,\"-\",label=\"rich\")\n",
    "semilogx(C,((U_optimal_poor-U_uni_poor)./(U_uni_poor)).*100,\"-\",label=\"poor\")\n",
    "xticks(C)\n",
    "yticks([-5,0,5,10])\n",
    "legend()\n",
    "xlabel(\"Capacity\")\n",
    "ylabel(\"% improvement\");\n",
    "#savefig(\"./figures/fig4a.png\")"
   ]
  },
  {
   "cell_type": "markdown",
   "metadata": {},
   "source": [
    "### Panel (b)"
   ]
  },
  {
   "cell_type": "code",
   "execution_count": null,
   "metadata": {
    "collapsed": true
   },
   "outputs": [],
   "source": [
    "frac_sampled_flat = zeros(length(C))\n",
    "frac_sampled_rich = zeros(length(C))\n",
    "frac_sampled_poor = zeros(length(C))\n",
    "for j in 1:length(C)\n",
    "    for i in 1:length(Ls_flat[j])\n",
    "        if Ls_flat[j][i] > 0\n",
    "            frac_sampled_flat[j] += 1\n",
    "        end\n",
    "        if Ls_poor[j][i] > 0\n",
    "            frac_sampled_poor[j] += 1\n",
    "        end\n",
    "        if Ls_rich[j][i] > 0\n",
    "            frac_sampled_rich[j] += 1\n",
    "        end\n",
    "    end\n",
    "end"
   ]
  },
  {
   "cell_type": "code",
   "execution_count": null,
   "metadata": {
    "collapsed": false,
    "scrolled": false
   },
   "outputs": [],
   "source": [
    "semilogx(C,frac_sampled_flat./C,\"o-\",label=\"Flat\")\n",
    "semilogx(C,frac_sampled_rich./C,\"o-\",label=\"Rich\")\n",
    "semilogx(C,frac_sampled_poor./C,\"o-\",label=\"Poor\")\n",
    "xticks(C)\n",
    "yticks([0,0.5,1])\n",
    "legend()\n",
    "xlabel(\"Capacity\")\n",
    "ylabel(\"Fraction of sampled alternatives\");\n",
    "#savefig(\"./figures/fig4b.png\")"
   ]
  }
 ],
 "metadata": {
  "@webio": {
   "lastCommId": null,
   "lastKernelId": null
  },
  "anaconda-cloud": {},
  "kernelspec": {
   "display_name": "Julia 1.1.0",
   "language": "julia",
   "name": "julia-1.1"
  },
  "language_info": {
   "file_extension": ".jl",
   "mimetype": "application/julia",
   "name": "julia",
   "version": "1.1.0"
  }
 },
 "nbformat": 4,
 "nbformat_minor": 2
}
